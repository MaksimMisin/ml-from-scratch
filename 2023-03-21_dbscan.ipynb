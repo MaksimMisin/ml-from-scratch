{
 "cells": [
  {
   "cell_type": "code",
   "execution_count": 2,
   "id": "1682c6ba-1be4-44e0-a041-078726584d5c",
   "metadata": {},
   "outputs": [],
   "source": [
    "import numpy as np\n",
    "import pandas as pd\n",
    "import matplotlib.pyplot as plt\n",
    "\n",
    "rng = np.random.default_rng(12345)"
   ]
  },
  {
   "cell_type": "code",
   "execution_count": null,
   "id": "c2466fec-ba93-49cd-a4ae-ad1e91005911",
   "metadata": {},
   "outputs": [],
   "source": []
  },
  {
   "cell_type": "code",
   "execution_count": null,
   "id": "92fad51e-3e39-4457-9ad4-b20269f004cd",
   "metadata": {},
   "outputs": [],
   "source": []
  },
  {
   "cell_type": "code",
   "execution_count": 3,
   "id": "741b1119-7f4d-4a72-8975-f91e3a462b49",
   "metadata": {},
   "outputs": [],
   "source": [
    "from sklearn import linear_model"
   ]
  },
  {
   "cell_type": "code",
   "execution_count": 12,
   "id": "aeb42ca8-2944-4ac1-9037-cd9eb14c5565",
   "metadata": {},
   "outputs": [],
   "source": [
    "lr = linear_model.LogisticRegression(C=1e-12)"
   ]
  },
  {
   "cell_type": "code",
   "execution_count": 19,
   "id": "d8ff550e-e3e5-447b-92c5-efb81c025ed8",
   "metadata": {},
   "outputs": [],
   "source": [
    "m = lr.fit([[0,2],[0,1],[0, 0]], [0, 0, 1])"
   ]
  },
  {
   "cell_type": "code",
   "execution_count": 20,
   "id": "3c894327-78a1-4644-8069-270c5fbee555",
   "metadata": {},
   "outputs": [
    {
     "data": {
      "text/plain": [
       "array([[ 0.00000000e+00, -1.66666667e-12]])"
      ]
     },
     "execution_count": 20,
     "metadata": {},
     "output_type": "execute_result"
    }
   ],
   "source": [
    "m.coef_"
   ]
  },
  {
   "cell_type": "code",
   "execution_count": 38,
   "id": "c01c668e-984f-4afe-8149-8fa629bd696b",
   "metadata": {},
   "outputs": [
    {
     "data": {
      "text/plain": [
       "array([[-0.69314718, -0.69314718]])"
      ]
     },
     "execution_count": 38,
     "metadata": {},
     "output_type": "execute_result"
    }
   ],
   "source": [
    "m.predict_log_proba([[0, 2]])"
   ]
  },
  {
   "cell_type": "code",
   "execution_count": 50,
   "id": "ca460643-6449-4a45-92fd-91bd9e6b2d48",
   "metadata": {},
   "outputs": [],
   "source": [
    "p_event = np.logspace(0, -10)"
   ]
  },
  {
   "cell_type": "code",
   "execution_count": 51,
   "id": "d07a573e-a149-441c-a27a-99413c09d5ee",
   "metadata": {},
   "outputs": [],
   "source": [
    "p_expect = 1/p_event"
   ]
  },
  {
   "cell_type": "code",
   "execution_count": 52,
   "id": "8f38e674-2a43-47b0-ad4c-d7c99c2e7b41",
   "metadata": {},
   "outputs": [],
   "source": [
    "p_not_occuring = (1-p_event)**(p_expect)"
   ]
  },
  {
   "cell_type": "code",
   "execution_count": 53,
   "id": "c3705a21-70b9-4ab2-bdcf-d7fbcb311d75",
   "metadata": {},
   "outputs": [
    {
     "data": {
      "text/plain": [
       "[<matplotlib.lines.Line2D at 0x28339b700>]"
      ]
     },
     "execution_count": 53,
     "metadata": {},
     "output_type": "execute_result"
    },
    {
     "data": {
      "image/png": "[encoded data removed]",
      "text/plain": [
       "<Figure size 640x480 with 1 Axes>"
      ]
     },
     "metadata": {},
     "output_type": "display_data"
    }
   ],
   "source": [
    "plt.semilogx(p_event, p_not_occuring)"
   ]
  },
  {
   "cell_type": "code",
   "execution_count": null,
   "id": "00abde9b-0ce3-470e-b725-45e1dd44dbfc",
   "metadata": {},
   "outputs": [],
   "source": []
  }
 ],
 "metadata": {
  "kernelspec": {
   "display_name": "Python 3 (ipykernel)",
   "language": "python",
   "name": "python3"
  },
  "language_info": {
   "codemirror_mode": {
    "name": "ipython",
    "version": 3
   },
   "file_extension": ".py",
   "mimetype": "text/x-python",
   "name": "python",
   "nbconvert_exporter": "python",
   "pygments_lexer": "ipython3",
   "version": "3.10.9"
  }
 },
 "nbformat": 4,
 "nbformat_minor": 5
}
