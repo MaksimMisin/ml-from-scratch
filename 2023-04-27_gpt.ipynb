{
 "cells": [
  {
   "cell_type": "code",
   "execution_count": 1,
   "metadata": {},
   "outputs": [],
   "source": [
    "# read it in to inspect it\n",
    "with open('data/tinyshakespeare.txt', 'r', encoding='utf-8') as f:\n",
    "    text = f.read()"
   ]
  },
  {
   "cell_type": "code",
   "execution_count": 2,
   "metadata": {},
   "outputs": [
    {
     "data": {
      "text/plain": [
       "1115389"
      ]
     },
     "execution_count": 2,
     "metadata": {},
     "output_type": "execute_result"
    }
   ],
   "source": [
    "len(text)"
   ]
  },
  {
   "cell_type": "code",
   "execution_count": 3,
   "metadata": {},
   "outputs": [
    {
     "name": "stdout",
     "output_type": "stream",
     "text": [
      "\n",
      " !$&',-.3:;?ABCDEFGHIJKLMNOPQRSTUVWXYZabcdefghijklmnopqrstuvwxyz\n",
      "65\n"
     ]
    }
   ],
   "source": [
    "# here are all the unique characters that occur in this text\n",
    "chars = sorted(list(set(text)))\n",
    "vocab_size = len(chars)\n",
    "print(''.join(chars))\n",
    "print(vocab_size)"
   ]
  },
  {
   "cell_type": "code",
   "execution_count": 4,
   "metadata": {},
   "outputs": [
    {
     "name": "stdout",
     "output_type": "stream",
     "text": [
      "[46, 47, 47, 1, 58, 46, 43, 56, 43]\n",
      "hii there\n"
     ]
    }
   ],
   "source": [
    "# create a mapping from characters to integers\n",
    "stoi = { ch:i for i,ch in enumerate(chars) }\n",
    "itos = { i:ch for i,ch in enumerate(chars) }\n",
    "encode = lambda s: [stoi[c] for c in s] # encoder: take a string, output a list of integers\n",
    "decode = lambda l: ''.join([itos[i] for i in l]) # decoder: take a list of integers, output a string\n",
    "\n",
    "print(encode(\"hii there\"))\n",
    "print(decode(encode(\"hii there\")))"
   ]
  },
  {
   "cell_type": "code",
   "execution_count": 5,
   "metadata": {},
   "outputs": [
    {
     "name": "stdout",
     "output_type": "stream",
     "text": [
      "torch.Size([1115389]) torch.int64\n",
      "tensor([18, 47, 56, 57, 58,  1, 15, 47, 58, 47])\n"
     ]
    }
   ],
   "source": [
    "# let's now encode the entire text dataset and store it into a torch.Tensor\n",
    "import torch # we use PyTorch: https://pytorch.org\n",
    "data = torch.tensor(encode(text), dtype=torch.long)\n",
    "print(data.shape, data.dtype)\n",
    "print(data[:10]) # the 1000 characters we looked at earier will to the GPT look like this"
   ]
  },
  {
   "cell_type": "code",
   "execution_count": 6,
   "metadata": {},
   "outputs": [],
   "source": [
    "# Let's now split up the data into train and validation sets\n",
    "n = int(0.9*len(data)) # first 90% will be train, rest val\n",
    "train_data = data[:n]\n",
    "val_data = data[n:]"
   ]
  },
  {
   "cell_type": "code",
   "execution_count": 7,
   "metadata": {},
   "outputs": [
    {
     "data": {
      "text/plain": [
       "tensor([18, 47, 56, 57, 58,  1, 15, 47, 58])"
      ]
     },
     "execution_count": 7,
     "metadata": {},
     "output_type": "execute_result"
    }
   ],
   "source": [
    "block_size = 8\n",
    "train_data[:block_size+1]"
   ]
  },
  {
   "cell_type": "code",
   "execution_count": 8,
   "metadata": {},
   "outputs": [
    {
     "name": "stdout",
     "output_type": "stream",
     "text": [
      "inputs:\n",
      "torch.Size([4, 8])\n",
      "tensor([[59, 57,  1, 58, 56, 39, 47, 58],\n",
      "        [30, 10,  0, 15, 53, 51, 43,  6],\n",
      "        [34, 21, 26, 15, 17, 26, 32, 21],\n",
      "        [27, 10,  0, 32, 46, 53, 59,  1]])\n",
      "targets:\n",
      "torch.Size([4, 8])\n",
      "tensor([[57,  1, 58, 56, 39, 47, 58, 53],\n",
      "        [10,  0, 15, 53, 51, 43,  6,  1],\n",
      "        [21, 26, 15, 17, 26, 32, 21, 27],\n",
      "        [10,  0, 32, 46, 53, 59,  1, 42]])\n",
      "----\n",
      "when input is [59] the target: 57\n",
      "when input is [59, 57] the target: 1\n",
      "when input is [59, 57, 1] the target: 58\n",
      "when input is [59, 57, 1, 58] the target: 56\n",
      "when input is [59, 57, 1, 58, 56] the target: 39\n",
      "when input is [59, 57, 1, 58, 56, 39] the target: 47\n",
      "when input is [59, 57, 1, 58, 56, 39, 47] the target: 58\n",
      "when input is [59, 57, 1, 58, 56, 39, 47, 58] the target: 53\n",
      "when input is [30] the target: 10\n",
      "when input is [30, 10] the target: 0\n",
      "when input is [30, 10, 0] the target: 15\n",
      "when input is [30, 10, 0, 15] the target: 53\n",
      "when input is [30, 10, 0, 15, 53] the target: 51\n",
      "when input is [30, 10, 0, 15, 53, 51] the target: 43\n",
      "when input is [30, 10, 0, 15, 53, 51, 43] the target: 6\n",
      "when input is [30, 10, 0, 15, 53, 51, 43, 6] the target: 1\n",
      "when input is [34] the target: 21\n",
      "when input is [34, 21] the target: 26\n",
      "when input is [34, 21, 26] the target: 15\n",
      "when input is [34, 21, 26, 15] the target: 17\n",
      "when input is [34, 21, 26, 15, 17] the target: 26\n",
      "when input is [34, 21, 26, 15, 17, 26] the target: 32\n",
      "when input is [34, 21, 26, 15, 17, 26, 32] the target: 21\n",
      "when input is [34, 21, 26, 15, 17, 26, 32, 21] the target: 27\n",
      "when input is [27] the target: 10\n",
      "when input is [27, 10] the target: 0\n",
      "when input is [27, 10, 0] the target: 32\n",
      "when input is [27, 10, 0, 32] the target: 46\n",
      "when input is [27, 10, 0, 32, 46] the target: 53\n",
      "when input is [27, 10, 0, 32, 46, 53] the target: 59\n",
      "when input is [27, 10, 0, 32, 46, 53, 59] the target: 1\n",
      "when input is [27, 10, 0, 32, 46, 53, 59, 1] the target: 42\n"
     ]
    }
   ],
   "source": [
    "torch.manual_seed(1337)\n",
    "batch_size = 4 # how many independent sequences will we process in parallel?\n",
    "block_size = 8 # what is the maximum context length for predictions?\n",
    "\n",
    "def get_batch(split):\n",
    "    # generate a small batch of data of inputs x and targets y\n",
    "    data = train_data if split == 'train' else val_data\n",
    "    ix = torch.randint(len(data) - block_size, (batch_size,))\n",
    "    x = torch.stack([data[i:i+block_size] for i in ix])\n",
    "    y = torch.stack([data[i+1:i+block_size+1] for i in ix])\n",
    "    return x, y\n",
    "\n",
    "xb, yb = get_batch('train')\n",
    "print('inputs:')\n",
    "print(xb.shape)\n",
    "print(xb)\n",
    "print('targets:')\n",
    "print(yb.shape)\n",
    "print(yb)\n",
    "\n",
    "print('----')\n",
    "\n",
    "for b in range(batch_size): # batch dimension\n",
    "    for t in range(block_size): # time dimension\n",
    "        context = xb[b, :t+1]\n",
    "        target = yb[b,t]\n",
    "        print(f\"when input is {context.tolist()} the target: {target}\")"
   ]
  },
  {
   "cell_type": "code",
   "execution_count": 9,
   "metadata": {},
   "outputs": [
    {
     "name": "stdout",
     "output_type": "stream",
     "text": [
      "torch.Size([32, 65])\n",
      "tensor(4.5242, grad_fn=<NllLossBackward0>)\n",
      "\n",
      "SKIcLT;AcELMoTbvZv C?nq-QE33:CJqkOKH-q;:la!oiywkHjgChzbQ?u!3bLIgwevmyFJGUGp\n",
      "wnYWmnxKWWev-tDqXErVKLgJ\n"
     ]
    }
   ],
   "source": [
    "import torch\n",
    "import torch.nn as nn\n",
    "from torch.nn import functional as F\n",
    "torch.manual_seed(1337)\n",
    "\n",
    "class BigramLanguageModel(nn.Module):\n",
    "\n",
    "    def __init__(self, vocab_size):\n",
    "        super().__init__()\n",
    "        # each token directly reads off the logits for the next token from a lookup table\n",
    "        self.token_embedding_table = nn.Embedding(vocab_size, vocab_size)\n",
    "\n",
    "    def forward(self, idx, targets=None):\n",
    "\n",
    "        # idx and targets are both (B,T) tensor of integers\n",
    "        logits = self.token_embedding_table(idx) # (B,T,C)\n",
    "        \n",
    "        if targets is None:\n",
    "            loss = None # logits would remain as (B,T,C)\n",
    "        else:\n",
    "            B, T, C = logits.shape\n",
    "            logits = logits.view(B*T, C)\n",
    "            targets = targets.view(B*T)\n",
    "            loss = F.cross_entropy(logits, targets) # Tensor with mean loss\n",
    "\n",
    "        return logits, loss\n",
    "    \n",
    "    def generate(self, idx, max_new_tokens):\n",
    "        # idx is (B, T) array of indices in the current context\n",
    "        for _ in range(max_new_tokens):\n",
    "            # get the predictions\n",
    "            logits, loss = self(idx)\n",
    "            # focus only on the last time step\n",
    "            logits = logits[:, -1, :] # becomes (B, C)\n",
    "            # apply softmax to get probabilities\n",
    "            probs = F.softmax(logits, dim=-1) # (B, C)\n",
    "            # sample from the distribution\n",
    "            idx_next = torch.multinomial(probs, num_samples=1) # (B, 1)\n",
    "            # append sampled index to the running sequence\n",
    "            idx = torch.cat((idx, idx_next), dim=1) # (B, T+1)\n",
    "        return idx\n",
    "\n",
    "m = BigramLanguageModel(vocab_size)\n",
    "logits, loss = m(xb, yb)\n",
    "print(logits.shape)\n",
    "print(loss)\n",
    "\n",
    "print(decode(m.generate(idx = torch.zeros((1, 1), dtype=torch.long), max_new_tokens=100)[0].tolist()))"
   ]
  },
  {
   "cell_type": "code",
   "execution_count": 10,
   "metadata": {},
   "outputs": [],
   "source": [
    "optimizer = torch.optim.Adam(m.parameters(), lr=1e-3)"
   ]
  },
  {
   "cell_type": "code",
   "execution_count": 11,
   "metadata": {},
   "outputs": [
    {
     "name": "stdout",
     "output_type": "stream",
     "text": [
      "2.470813274383545\n"
     ]
    }
   ],
   "source": [
    "batch_size = 32\n",
    "for steps in range(10_000): # increase number of steps for good results... \n",
    "    \n",
    "    # sample a batch of data\n",
    "    xb, yb = get_batch('train')\n",
    "\n",
    "    # evaluate the loss\n",
    "    logits, loss = m(xb, yb)\n",
    "    optimizer.zero_grad(set_to_none=True)\n",
    "    loss.backward()\n",
    "    optimizer.step()\n",
    "\n",
    "print(loss.item())"
   ]
  },
  {
   "cell_type": "code",
   "execution_count": 12,
   "metadata": {},
   "outputs": [
    {
     "name": "stdout",
     "output_type": "stream",
     "text": [
      "\n",
      "llo br. ave aviasurf my, yxMPZI ivee iuedrd whar ksth y h bora s be hese, woweee; the! KI 'de, ulseecherd d o blllando;\n",
      "\n",
      "Whe, oraingofof win!\n",
      "RIfans picspeserer hee anf,\n",
      "TOFonk? me ain ckntoty dedo bo'llll st ta d:\n",
      "ELIS me hurf lal y, ma dus pe athouo\n",
      "By bre ndy; by s afreanoo adicererupa anse tecorro llaus a!\n",
      "OLengerithesinthengove fal ames trr\n",
      "TI ar I t, mes, n sar; my w, fredeeyove\n",
      "THek' merer, dd\n",
      "We ntem lud engitheso; cer ize helour\n",
      "Jginte the?\n",
      "Thak orblyor id oree chot, p,\n",
      "Beay Yolde Th ll\n"
     ]
    }
   ],
   "source": [
    "print(decode(m.generate(idx = torch.zeros((1, 1), dtype=torch.long), max_new_tokens=500)[0].tolist()))"
   ]
  },
  {
   "attachments": {},
   "cell_type": "markdown",
   "metadata": {},
   "source": [
    "# Self-attention"
   ]
  },
  {
   "cell_type": "code",
   "execution_count": 14,
   "metadata": {},
   "outputs": [
    {
     "data": {
      "text/plain": [
       "torch.Size([4, 8, 2])"
      ]
     },
     "execution_count": 14,
     "metadata": {},
     "output_type": "execute_result"
    }
   ],
   "source": [
    "B, T, C = 4, 8, 2   # batch, content, channels\n",
    "x = torch.randn(B, T, C)\n",
    "x.shape"
   ]
  },
  {
   "cell_type": "code",
   "execution_count": 47,
   "metadata": {},
   "outputs": [
    {
     "data": {
      "text/plain": [
       "tensor([[-1.2630, -1.2298],\n",
       "        [-1.3263, -0.7032],\n",
       "        [-0.7793, -0.2108],\n",
       "        [-0.8253,  0.0097],\n",
       "        [-0.8572,  0.1852],\n",
       "        [-0.7105,  0.2665],\n",
       "        [-0.5849,  0.2817],\n",
       "        [-0.3849,  0.1331]])"
      ]
     },
     "execution_count": 47,
     "metadata": {},
     "output_type": "execute_result"
    }
   ],
   "source": [
    "# v1\n",
    "xbow = torch.zeros(x.shape)\n",
    "for b in range(B):\n",
    "    for t in range(T):\n",
    "        xprev_mean = x[b, :t+1].mean(dim=0) # (t, C) -> (C,)\n",
    "        xbow[b, t] = xprev_mean\n",
    "xbow[0]"
   ]
  },
  {
   "cell_type": "code",
   "execution_count": 48,
   "metadata": {},
   "outputs": [
    {
     "data": {
      "text/plain": [
       "tensor([[-1.2630, -1.2298],\n",
       "        [-1.3263, -0.7032],\n",
       "        [-0.7793, -0.2108],\n",
       "        [-0.8253,  0.0097],\n",
       "        [-0.8572,  0.1852],\n",
       "        [-0.7105,  0.2665],\n",
       "        [-0.5849,  0.2817],\n",
       "        [-0.3849,  0.1331]])"
      ]
     },
     "execution_count": 48,
     "metadata": {},
     "output_type": "execute_result"
    }
   ],
   "source": [
    "# v2, tril\n",
    "wei = torch.tril(torch.ones((T, T)))\n",
    "wei /= wei.sum(dim=-1, keepdim=True) # (T, T)\n",
    "xbow2 = wei @ x   # (T, T) @ (B, T, C) -> (B, T, C)\n",
    "xbow2[0]"
   ]
  },
  {
   "cell_type": "code",
   "execution_count": 50,
   "metadata": {},
   "outputs": [
    {
     "data": {
      "text/plain": [
       "tensor([[-1.2630, -1.2298],\n",
       "        [-1.3263, -0.7032],\n",
       "        [-0.7793, -0.2108],\n",
       "        [-0.8253,  0.0097],\n",
       "        [-0.8572,  0.1852],\n",
       "        [-0.7105,  0.2665],\n",
       "        [-0.5849,  0.2817],\n",
       "        [-0.3849,  0.1331]])"
      ]
     },
     "execution_count": 50,
     "metadata": {},
     "output_type": "execute_result"
    }
   ],
   "source": [
    "# v3, tril + softmax\n",
    "tril = torch.tril(torch.ones((T, T)))\n",
    "wei = torch.zeros((T, T))\n",
    "wei = wei.masked_fill(tril==0, float('-inf'))\n",
    "wei = F.softmax(wei, dim=-1)\n",
    "\n",
    "xbow3 = wei @ x\n",
    "xbow3[0]"
   ]
  },
  {
   "cell_type": "code",
   "execution_count": 86,
   "metadata": {},
   "outputs": [
    {
     "data": {
      "text/plain": [
       "torch.Size([4, 8, 16])"
      ]
     },
     "execution_count": 86,
     "metadata": {},
     "output_type": "execute_result"
    }
   ],
   "source": [
    "# v4, self-attention\n",
    "\n",
    "head_size = 16\n",
    "key = nn.Linear(C, head_size) # apply to each token independently C -> head_size\n",
    "query = nn.Linear(C, head_size) # apply to each token independently C -> head_size\n",
    "value = nn.Linear(C, head_size) # apply to each token independently C -> head_size\n",
    "\n",
    "k = key(x) # (B, T, C) -> (B, T, head_size)\n",
    "q = query(x) # (B, T, C) -> (B, T, head_size)\n",
    "v = value(x) # (B, T, C) -> (B, T, head_size)\n",
    "\n",
    "k_transp = k.transpose(1, 2) # (B, head_size, T)\n",
    "wei = q @ k_transp # (B, T, head_size) @ (B, head_size, T) -> (B, T, T)\n",
    "\n",
    "tril = torch.tril(torch.ones((T, T)))\n",
    "wei = wei.masked_fill(tril==0, float('-inf'))\n",
    "wei = F.softmax(wei, dim=-1)\n",
    "wei = wei / C**0.5   # scale by sqrt(C), so that variance is ~1\n",
    "\n",
    "out = wei @ v # (B, T, T) @ (B, T, head_size) -> (B, T, head_size)\n",
    "# wei mixes rows of x (tokens) with previous tokens of x\n",
    "# according to the similarity of their keys and queries\n",
    "\n",
    "out.shape"
   ]
  },
  {
   "cell_type": "code",
   "execution_count": 87,
   "metadata": {},
   "outputs": [
    {
     "data": {
      "text/plain": [
       "tensor([[-0.6977, -0.2740,  0.3911,  0.0471,  0.5345, -0.9069,  0.7361,  0.2152,\n",
       "          0.1282,  1.0211,  0.4593,  0.5926,  0.2504,  0.3334, -0.3364,  0.1112],\n",
       "        [-0.4187, -0.6569,  0.3261, -0.1719,  0.3471, -0.4142,  0.5462, -0.3948,\n",
       "          0.0902,  0.6141,  0.0657,  0.2975,  0.3421,  0.5031, -0.4993, -0.4318],\n",
       "        [-0.5472, -0.3811,  0.3608, -0.2665,  0.3358, -0.1544,  0.5899, -0.2358,\n",
       "          0.0789,  0.3445,  0.1686,  0.0839,  0.0828,  0.3574, -0.1609, -0.0645],\n",
       "        [-0.3994, -0.4110,  0.3346, -0.7218,  0.0672,  0.9512,  0.4136, -0.7702,\n",
       "          0.0088, -0.6646, -0.1757, -0.6790, -0.2457,  0.3300,  0.2102, -0.1483],\n",
       "        [-0.3213, -0.5749,  0.3137, -0.6719,  0.0703,  0.8122,  0.3853, -0.8717,\n",
       "          0.0145, -0.5184, -0.2413, -0.5627, -0.0964,  0.4160,  0.0146, -0.3672],\n",
       "        [-0.4029, -0.4939,  0.3313, -0.5472,  0.1554,  0.5171,  0.4543, -0.6556,\n",
       "          0.0346, -0.2575, -0.1020, -0.3679, -0.0558,  0.3873, -0.0196, -0.2449],\n",
       "        [-0.4488, -0.3903,  0.3439, -0.5908,  0.1464,  0.6343,  0.4678, -0.6047,\n",
       "          0.0291, -0.3768, -0.0691, -0.4618, -0.1594,  0.3319,  0.1146, -0.1076],\n",
       "        [-1.0263,  0.6253,  0.4890, -0.5756,  0.3157,  0.7047,  0.7628,  0.3851,\n",
       "          0.0434, -0.5585,  0.5701, -0.6339, -0.8357, -0.1707,  1.0419,  1.2790]],\n",
       "       grad_fn=<SelectBackward0>)"
      ]
     },
     "execution_count": 87,
     "metadata": {},
     "output_type": "execute_result"
    }
   ],
   "source": [
    "out[0]"
   ]
  },
  {
   "cell_type": "code",
   "execution_count": 84,
   "metadata": {},
   "outputs": [
    {
     "data": {
      "text/plain": [
       "tensor([[1.0000, 0.0000, 0.0000, 0.0000, 0.0000, 0.0000, 0.0000, 0.0000],\n",
       "        [0.5673, 0.4327, 0.0000, 0.0000, 0.0000, 0.0000, 0.0000, 0.0000],\n",
       "        [0.2111, 0.3748, 0.4140, 0.0000, 0.0000, 0.0000, 0.0000, 0.0000],\n",
       "        [0.3017, 0.3363, 0.1066, 0.2555, 0.0000, 0.0000, 0.0000, 0.0000],\n",
       "        [0.2143, 0.2516, 0.1034, 0.2121, 0.2186, 0.0000, 0.0000, 0.0000],\n",
       "        [0.1131, 0.1768, 0.1330, 0.2074, 0.2269, 0.1429, 0.0000, 0.0000],\n",
       "        [0.1167, 0.1765, 0.1023, 0.1886, 0.2048, 0.1147, 0.0964, 0.0000],\n",
       "        [0.1672, 0.2375, 0.0554, 0.1883, 0.2014, 0.0721, 0.0586, 0.0195]],\n",
       "       grad_fn=<SelectBackward0>)"
      ]
     },
     "execution_count": 84,
     "metadata": {},
     "output_type": "execute_result"
    }
   ],
   "source": [
    "wei[0]"
   ]
  },
  {
   "cell_type": "code",
   "execution_count": null,
   "metadata": {},
   "outputs": [],
   "source": []
  },
  {
   "cell_type": "code",
   "execution_count": null,
   "metadata": {},
   "outputs": [],
   "source": []
  }
 ],
 "metadata": {
  "kernelspec": {
   "display_name": "base",
   "language": "python",
   "name": "python3"
  },
  "language_info": {
   "codemirror_mode": {
    "name": "ipython",
    "version": 3
   },
   "file_extension": ".py",
   "mimetype": "text/x-python",
   "name": "python",
   "nbconvert_exporter": "python",
   "pygments_lexer": "ipython3",
   "version": "3.10.9"
  },
  "orig_nbformat": 4
 },
 "nbformat": 4,
 "nbformat_minor": 2
}
